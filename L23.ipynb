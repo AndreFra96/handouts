{
 "cells": [
  {
   "cell_type": "markdown",
   "metadata": {},
   "source": [
    "# ASCII Art\n",
    "\n",
    "Durante le due ultime lezioni verrà svolto un *esercizio di ricapitolazione* che consiste nel progetto e realizzazione di una gerarchia di oggetti, un compito simile a quello richiesto per il superamento della prova d'esame in laboratorio."
   ]
  },
  {
   "cell_type": "markdown",
   "metadata": {},
   "source": [
    "## Descrizione del problema\n",
    "\n",
    "### Introduzione\n",
    "\n",
    "Obiettivo del progetto è realizzare un *interprete* per un semplice linguaggio di manipolazione di immagini monocromatiche rappresentate tramite matrici di caratteri.\n",
    "\n",
    "Iniziamo con qualche semplice definizione. Un **pixel** è un elemento di immagine che può trovarsi di volta in volta in uno di due possibili stati: *acceso* o *spento*. \n",
    "\n",
    "Una **bitmap** di *dimensione* $b \\times h$ (con $b >0$ e $h > 0$) è una matrice di $b\\times h$ pixel; chiameremo **coordinate** del pixel nella riga $r$ e colonna $c$ di una bitmap la coppia di indici $(r, c)$ (dove sia le righe che le colonne sono numerate a partire da $0$).\n",
    "\n",
    "Una **figura** è data da un insieme finito di coordinate, alcuni esempi sono:\n",
    "\n",
    "* il **segmento verticale** di dimensione $h$ con coordinate $(r,c)$, dato dall'insieme $\\{(r,c), (r+1,c), \\ldots, (r+h-1,c)\\}$,\n",
    "* il **segmento orizzontale** di dimensione $l$ con coordinate $(r,c)$, dato dall'insieme $\\{(r,c), (r,c+1), \\ldots, (r,c+l-1)\\}$,\n",
    "* il **rettangolo** di dimensioni $l\\times h$ con coordinate $(r,c)$, dato dall'unione dei quattro segmenti:  due verticali di dimensione $h$ e coordinate $(r,c)$ e $(r,c+l-1)$ e due orizzontali di dimensione $l$ con coordinate $(r,c)$ e $(r+h-1,c)$,\n",
    "* il **timbro** della matrice\\footnote{Per uniformità con quanto avviene nelle bitmap, gli indici di riga e colonna delle matrici qui partono da $0$.} $A=(a_{i,j})$ con coordinate $(r,c)$, dato dall'insieme $\\{(r+i,c+j) \\mid a_{i,j}\\not=0 \\}$.\n",
    "\n",
    "Data una bitmap e una figura, *disegnare* la figura nella bitmap significa accendere i pixel della bitmap corrispondenti alle coordinate della figura (eventualmente ignorando le coordinate cui non corrispondono pixel della bitmap). In particolare, il disegno del timbro della matrice $A$ con coordinate $(r,c)$ può essere definito informalmente come segue: per prima cosa si \"sovrappone\"la matrice $A$ alla bitmap in modo che l'elemento di riga 0 e colonna 0 della matrice si trovi \"sopra\" il pixel di coordinate $(r,c)$ della bitmap, quindi si accendono i pixel della bitmap che si trovano \"sotto\" gli elementi non nulli della matrice.\n",
    "\n",
    "Concludiamo l'introduzione osservando come una bitmap sarà nel seguito semplicemente raffigurata tramite $h$ righe di $b$ caratteri ciascuna in cui il carattere nella colonna $c$ della riga $r$ rappresenti il pixel di coordinate $(r,c)$, adottando la convenzione di indicare con uno spazio i pixel spenti e con un asterisco quelli accesi.\n",
    "\n",
    "Ad esempio, la raffigurazione seguente\n",
    "\n",
    "|   | 0 | 1 | 2 | 3 | 4 |\n",
    "| --|---|---|---|---|---|\n",
    "| **0** | `X` | ␣ | ␣ | ␣ | ␣ | \n",
    "| **1** | `X` | ␣ | `X` | `X` | ␣ |\n",
    "| **2** | `X` | ␣ | ␣ | ␣ | ␣ |\n",
    "| **3** | `X` | ␣ | ␣ | ␣ | ␣ |\n",
    "\n",
    "corrisponde ad una bitmap di dimensione $4\\times 5$ (con tutti i pixel inizialmente spenti) in cui sono stati disegnati il segmento verticale di dimensione $4$ e coordinate $(0,0)$ e il segmento orizzontale di dimensione $2$ e coordinate $(1,2)$ (i numeri di riga e colonna nella prima riga e prima colonna della tabella sono riportati solo per facilitare la lettura e non fanno parte della raffigurazione della bitmap che è data solo dalle `X` e dagli spazi, che qui sono rappresentati come `␣` per aumentarne la leggibilità).\n",
    "\n",
    "### I comandi dell'interprete\n",
    "\n",
    "L'interprete gestisce una bitmap di dimensioni assegnate e, a seguito di una successione di **comandi**, esegue alcune manipolazioni su di essa tra le quali, ad esempio, il disegno di alcune figure. In più, l'interprete gestisce  un insieme di matrici (di varie dimensioni) che possono essere usate per i timbri.\n",
    "\n",
    "L'interprete inizia l'esecuzione con una bitmap di dimensione $1\\times 1$ e tutti gli elementi di tutte le matrici sono nulli. \n",
    "\n",
    "Ogni comando è dato da un *nome* (costituito da un carattere minuscolo) e, se necessario, da un elenco di uno o più numeri interi detti *parametri*; nome e parametri dei comandi dell'interprete sono\n",
    "\n",
    "* `n`: $b$ $h$\n",
    "* `c`:\n",
    "* `i`:\n",
    "* `x`: $r$   $c$ \n",
    "* `o`: $r$   $c$ \n",
    "* `h`: $l$   $r$   $c$ \n",
    "* `v`: $h$   $r$   $c$ \n",
    "* `r`: $h$   $l$   $r$   $c$ \n",
    "* `s`: $m$   $r$   $c$   $a_{0,0} \\ldots a_{0,c-1} a_{1,0} \\ldots a_{1,c-1} \\dots a_{r-1,0} \\dots a_{r-1,c-1}$  \n",
    "* `d`: $m$   $r$   $c$ \n",
    "* `p`: \n",
    "\n",
    "Un primo insieme di comandi riguarda direttamente la bitmap. Il comando `n` con parametri $b$ e $h$ crea una nuova bitmap di dimensione $b\\times h$ in cui tutti i pixel sono inizialmente spenti (se era presente una bitmap precedente, essa viene eliminata; se uno dei parametri è maggiore di 1000, il comando viene ignorato). Il comando `c` spegne tutti i pixel della bitmap, mentre il comando `i` inverte lo stato dei pixel rendendo accesi quelli spenti e viceversa. \n",
    "\n",
    "La manipolazione diretta dei pixel avviene tramite i comandi `x` e `o` che, rispettivamente, accendono e spengono il pixel le cui coordinate sono specificate dai parametri del comando. Se le coordinate eccedono la dimensione della bitmap, il comando sarà ignorato.\n",
    "\n",
    "Il disegno di figure è poi ottenuto grazie ai comandi `v`, `h` e `r` che disegnano rispettivamente un segmento verticale, uno orizzontale ed un rettangolo con dimensioni e coordinate specificate dai parametri.\n",
    "\n",
    "La gestione dei timbri si basa su due comandi. Il comando `s` legge nell'$m$-esima matrice gestita dall'interprete una matrice di dimensione $r\\times c$ (le matrici hanno massima dimensione pari a $1000 \\times 1000$ e sono numerate da $0$ a $1000$ escluso); i valori degli elementi della matrice sono specificati, come parametri, per riga (ossia: i primi $c$ parametri sono i valori della prima riga, quindi i successivi $c$ parametri quelli della seconda riga e così di seguito). Se era già stata letta la matrice $m$-esima, la nuova matrice letta rimpiazzerà quella precedente. Il comando `d` disegna il timbro dell'$m$-esima matrice alle coordinate specificate dai parametri. Anche nel caso dei timbri, se i parametri relativi a numero, o dimenzione, eccedono i limiti specificati, il comando sarà ignorato.\n",
    "\n",
    "L'ultimo comando `p` produce la raffigurazione a caratteri della bitmap così come illustrato nell'introduzione."
   ]
  }
 ],
 "metadata": {
  "kernelspec": {
   "display_name": "Python 3",
   "language": "python",
   "name": "python3"
  },
  "language_info": {
   "codemirror_mode": {
    "name": "ipython",
    "version": 3
   },
   "file_extension": ".py",
   "mimetype": "text/x-python",
   "name": "python",
   "nbconvert_exporter": "python",
   "pygments_lexer": "ipython3",
   "version": "3.7.6"
  }
 },
 "nbformat": 4,
 "nbformat_minor": 2
}
