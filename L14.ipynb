{
 "cells": [
  {
   "cell_type": "markdown",
   "metadata": {},
   "source": [
    "# Equality & Inheritance\n",
    "\n",
    "## Simmetria \n",
    "L'implementazione *ovvia* non funziona: se un sottotipo aggiunge un \"valore\", non basta controllare con `instanceof` e verificare che siano uguali i valori in gioco…"
   ]
  },
  {
   "cell_type": "code",
   "execution_count": 1,
   "metadata": {
    "scrolled": true
   },
   "outputs": [],
   "source": [
    "class T0 {\n",
    "    private final int a;\n",
    "    public T0(int a) { this.a = a; }\n",
    "    public boolean equals(Object o) {\n",
    "        if (o instanceof T0) {\n",
    "            final T0 t = (T0)o;\n",
    "            return a == t.a;\n",
    "        }\n",
    "        return false;\n",
    "    }\n",
    "}\n",
    "\n",
    "class S0 extends T0 {\n",
    "    private final int b;\n",
    "    public S0(int a, int b) { super(a); this.b = b; }\n",
    "    public boolean equals(Object o) {\n",
    "        if (o instanceof S0) {\n",
    "            final S0 s = (S0)o;\n",
    "            return super.equals(o) && b == s.b;\n",
    "        }\n",
    "        return false;\n",
    "    }\n",
    "}\n",
    "\n",
    "S0 s = new S0(1, 2);\n",
    "T0 t = new T0(1);"
   ]
  },
  {
   "cell_type": "markdown",
   "metadata": {},
   "source": [
    "Viene violata la proprietà di **simmetria**, ossia $t \\sim s$ non implica $s \\sim t$"
   ]
  },
  {
   "cell_type": "code",
   "execution_count": 2,
   "metadata": {
    "scrolled": true
   },
   "outputs": [
    {
     "data": {
      "text/plain": [
       "true"
      ]
     },
     "execution_count": 2,
     "metadata": {},
     "output_type": "execute_result"
    }
   ],
   "source": [
    "t.equals(s)"
   ]
  },
  {
   "cell_type": "code",
   "execution_count": 3,
   "metadata": {
    "scrolled": true
   },
   "outputs": [
    {
     "data": {
      "text/plain": [
       "false"
      ]
     },
     "execution_count": 3,
     "metadata": {},
     "output_type": "execute_result"
    }
   ],
   "source": [
    "s.equals(t)"
   ]
  },
  {
   "cell_type": "markdown",
   "metadata": {},
   "source": [
    "Quel che accade è che `t instanceof S0` è *falso*, ma `s instanceof T0` è *vero*, per cui l'implementazione di `equals` di `S0` non sa cosa fare con `t`, mentre quella di `T0` funziona con `s` (ovviamente trascurando `b` di cui ignora l'esistenza)."
   ]
  },
  {
   "cell_type": "markdown",
   "metadata": {},
   "source": [
    "## Transitività\n",
    "\n",
    "Non è facile aggiustare l'implementazione di `equals` di `S1` gestendo accortamente il caso in cui `o` ha il tipo effettivo di `T1` imitando il suo comportamento, ossai \"scordandosi\" di `b`."
   ]
  },
  {
   "cell_type": "code",
   "execution_count": 4,
   "metadata": {
    "scrolled": true
   },
   "outputs": [],
   "source": [
    "class T1 {\n",
    "    private final int a;\n",
    "    public T1(int a) { this.a = a; }\n",
    "    public boolean equals(Object o) {\n",
    "        if (o instanceof T1) {\n",
    "            final T1 t = (T1)o;\n",
    "            return a == t.a;\n",
    "        }\n",
    "        return false;\n",
    "    }\n",
    "}\n",
    "\n",
    "class S1 extends T1 {\n",
    "    private final int b;\n",
    "    public S1(int a, int b) { super(a); this.b = b; }\n",
    "    public boolean equals(Object o) {\n",
    "        if (o instanceof S1) {\n",
    "            final S1 s = (S1)o;\n",
    "            return super.equals(o) && b == s.b;\n",
    "        }\n",
    "        if (o instanceof T1) return super.equals(o);\n",
    "        return false;\n",
    "    }\n",
    "}\n",
    "\n",
    "S1 s = new S1(1, 2);\n",
    "T1 t = new T1(1);\n",
    "S1 u = new S1(1, 3);"
   ]
  },
  {
   "cell_type": "markdown",
   "metadata": {},
   "source": [
    "Così facendo infatti, la simmetria è rispsttata"
   ]
  },
  {
   "cell_type": "code",
   "execution_count": 5,
   "metadata": {},
   "outputs": [
    {
     "data": {
      "text/plain": [
       "true"
      ]
     },
     "execution_count": 5,
     "metadata": {},
     "output_type": "execute_result"
    }
   ],
   "source": [
    "t.equals(s);"
   ]
  },
  {
   "cell_type": "code",
   "execution_count": 6,
   "metadata": {},
   "outputs": [
    {
     "data": {
      "text/plain": [
       "true"
      ]
     },
     "execution_count": 6,
     "metadata": {},
     "output_type": "execute_result"
    }
   ],
   "source": [
    "s.equals(t);"
   ]
  },
  {
   "cell_type": "markdown",
   "metadata": {},
   "source": [
    "Ma ovviamente risulterà violata la proprietà **transitiva**, ovvero anche avendo $s \\sim t$ e $t \\sim u$ non è detto che $s \\sim u$"
   ]
  },
  {
   "cell_type": "code",
   "execution_count": 7,
   "metadata": {},
   "outputs": [
    {
     "data": {
      "text/plain": [
       "true"
      ]
     },
     "execution_count": 7,
     "metadata": {},
     "output_type": "execute_result"
    }
   ],
   "source": [
    "t.equals(u);"
   ]
  },
  {
   "cell_type": "code",
   "execution_count": 8,
   "metadata": {},
   "outputs": [
    {
     "data": {
      "text/plain": [
       "false"
      ]
     },
     "execution_count": 8,
     "metadata": {},
     "output_type": "execute_result"
    }
   ],
   "source": [
    "s.equals(u);"
   ]
  },
  {
   "cell_type": "markdown",
   "metadata": {},
   "source": [
    "## Il primcipio di sostituione\n",
    "\n",
    "Si potrebbe pensare che il problema sia `instanceof` che è antisimmetrico, per cui una soluzione che viene talvolta suggerita è di sostituire nell'implementazione di `equals` di `T2` la condizione `o instanceof T1` con la condizione `getClass() == o.getClass()` che è simmetrica (e risulta vera se e solo se gli oggetti hanno identico tipo concreto)."
   ]
  },
  {
   "cell_type": "code",
   "execution_count": 9,
   "metadata": {},
   "outputs": [],
   "source": [
    "class T2 {\n",
    "    private final int a;\n",
    "    public T2(int a) { this.a = a; }\n",
    "    public boolean equals(Object o) {\n",
    "        if (getClass() == o.getClass()) {\n",
    "            final T2 t = (T2)o;\n",
    "            return a == t.a;\n",
    "        }\n",
    "        return false;\n",
    "    }\n",
    "}\n",
    "\n",
    "class S2 extends T2 {\n",
    "    private final int b;\n",
    "    public S2(int a, int b) { super(a); this.b = b; }\n",
    "    public boolean equals(Object o) {\n",
    "        if (getClass() == o.getClass()) {\n",
    "            final S2 s = (S2)o;\n",
    "            return super.equals(o) && b == s.b;\n",
    "        }\n",
    "        return false;\n",
    "    }\n",
    "}\n",
    "\n",
    "S2 s = new S2(1, 2);\n",
    "T2 t = new T2(1);"
   ]
  },
  {
   "cell_type": "markdown",
   "metadata": {},
   "source": [
    "In questo modo la simmetria e la transitività sono rispettate perché `equals` funziona solo per oggetti del medesimo tipo, avendo valore `false` per oggetti di tipo diverso (anche se sottotipi l'uno dell'altro)."
   ]
  },
  {
   "cell_type": "code",
   "execution_count": 10,
   "metadata": {},
   "outputs": [
    {
     "data": {
      "text/plain": [
       "false"
      ]
     },
     "execution_count": 10,
     "metadata": {},
     "output_type": "execute_result"
    }
   ],
   "source": [
    "s.equals(t);"
   ]
  },
  {
   "cell_type": "code",
   "execution_count": 11,
   "metadata": {},
   "outputs": [
    {
     "data": {
      "text/plain": [
       "false"
      ]
     },
     "execution_count": 11,
     "metadata": {},
     "output_type": "execute_result"
    }
   ],
   "source": [
    "t.equals(s);"
   ]
  },
  {
   "cell_type": "markdown",
   "metadata": {},
   "source": [
    "Questo però viola il **principio di sostituzione**! \n",
    "\n",
    "Per cogliere meglio questo aspetto consideriamo `S3`, una ulteriore estensione di `T2`che non aggiunga alcun \"valore\", ma solo un \"comportamento\"."
   ]
  },
  {
   "cell_type": "code",
   "execution_count": 12,
   "metadata": {},
   "outputs": [],
   "source": [
    "class S3 extends T2 {\n",
    "    public S3(int a) { super(a); }\n",
    "    public boolean equals(Object o) {\n",
    "        if (o instanceof T2) return super.equals(o);\n",
    "        return false;\n",
    "    }\n",
    "    public void sayHi() { System.out.println(\"Hi!\"); }\n",
    "}"
   ]
  },
  {
   "cell_type": "markdown",
   "metadata": {},
   "source": [
    "Supponiamo ora di sviluppare una classe di utilità con un metodo `isSmall` che restituisca `true` per tutti gli oggetti per cui `a` è `1`, oppure `2` e supponiamo (sebbene questo sia estremamente innaturale ed inefficiente) di implementare tale metodo verificando l'appartenenza ad un insieme `SMALLS` che contiene gli unici due oggetti che soddisfano tale requisito."
   ]
  },
  {
   "cell_type": "code",
   "execution_count": 13,
   "metadata": {},
   "outputs": [],
   "source": [
    "class U {\n",
    "    private static final Set<T2> SMALLS = Set.of(new T2(1), new T2(2));\n",
    "    public static boolean isSmall(T2 t) { return SMALLS.contains(t); }\n",
    "}"
   ]
  },
  {
   "cell_type": "markdown",
   "metadata": {},
   "source": [
    "Il principio di sostituzione predica che sostituendo oggetti di sottotipo `S3` ad oggetti di tipo `T2` il comportamento del codice non deve cambiare, ma questo non accade:"
   ]
  },
  {
   "cell_type": "code",
   "execution_count": 14,
   "metadata": {},
   "outputs": [],
   "source": [
    "T2 v = new T2(1);\n",
    "S3 u = new S3(1);"
   ]
  },
  {
   "cell_type": "code",
   "execution_count": 15,
   "metadata": {},
   "outputs": [
    {
     "data": {
      "text/plain": [
       "true"
      ]
     },
     "execution_count": 15,
     "metadata": {},
     "output_type": "execute_result"
    }
   ],
   "source": [
    "U.isSmall(v);"
   ]
  },
  {
   "cell_type": "code",
   "execution_count": 16,
   "metadata": {},
   "outputs": [
    {
     "data": {
      "text/plain": [
       "false"
      ]
     },
     "execution_count": 16,
     "metadata": {},
     "output_type": "execute_result"
    }
   ],
   "source": [
    "U.isSmall(u);"
   ]
  },
  {
   "cell_type": "markdown",
   "metadata": {},
   "source": [
    "Questo accade perché l'implementazione di `Set` si basa sul metodo `equals` per decidere se un oggetto appartiene all'insieme, ma gli elementi di `SMALLS` (che sono di tipo `T2`) non risultano mai uguali ad oggetti di tipo `S3`!"
   ]
  }
 ],
 "metadata": {
  "kernelspec": {
   "display_name": "Java",
   "language": "java",
   "name": "java"
  },
  "language_info": {
   "codemirror_mode": "java",
   "file_extension": ".jshell",
   "mimetype": "text/x-java-source",
   "name": "Java",
   "pygments_lexer": "java",
   "version": "11.0.5+10-LTS"
  }
 },
 "nbformat": 4,
 "nbformat_minor": 2
}
