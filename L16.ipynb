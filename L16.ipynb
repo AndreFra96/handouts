{
 "cells": [
  {
   "cell_type": "markdown",
   "metadata": {},
   "source": [
    "# Generici e gerarchia\n",
    "\n",
    "Se `S` $\\prec$ `T` non è vero che ≠ `G<S>` $\\prec$ `G<T>` (dove `G` è un qualche tipo generico).\n",
    "\n",
    "Si considerino ad esempio"
   ]
  },
  {
   "cell_type": "code",
   "execution_count": 1,
   "metadata": {},
   "outputs": [],
   "source": [
    "List<Integer> li = new ArrayList<>();\n",
    "List<Object> lo;"
   ]
  },
  {
   "cell_type": "markdown",
   "metadata": {},
   "source": [
    "Se `li` fosse un sottotipo di `lo` l'assegnamento seguente sarebbe possibile (senza *cast*) "
   ]
  },
  {
   "cell_type": "code",
   "execution_count": 2,
   "metadata": {},
   "outputs": [],
   "source": [
    "lo = (List)li; "
   ]
  },
  {
   "cell_type": "markdown",
   "metadata": {},
   "source": [
    "Una volta ottenuto l'*alias* `lo` potremmo usarlo per aggiungere di tutto a `ls`"
   ]
  },
  {
   "cell_type": "code",
   "execution_count": 3,
   "metadata": {},
   "outputs": [
    {
     "data": {
      "text/plain": [
       "true"
      ]
     },
     "execution_count": 3,
     "metadata": {},
     "output_type": "execute_result"
    }
   ],
   "source": [
    "lo.add(new Object());"
   ]
  },
  {
   "cell_type": "markdown",
   "metadata": {},
   "source": [
    "ma ovviamente, una volta estratto da `ls` (come `String`) un oggetto qualunque potrebbe dare adito ad un errore di conversione"
   ]
  },
  {
   "cell_type": "code",
   "execution_count": 4,
   "metadata": {},
   "outputs": [
    {
     "ename": "EvalException",
     "evalue": "class java.lang.Object cannot be cast to class java.lang.Integer (java.lang.Object and java.lang.Integer are in module java.base of loader 'bootstrap')",
     "output_type": "error",
     "traceback": [
      "\u001b[1m\u001b[31m---------------------------------------------------------------------------\u001b[0m",
      "\u001b[1m\u001b[31mjava.lang.ClassCastException: class java.lang.Object cannot be cast to class java.lang.Integer (java.lang.Object and java.lang.Integer are in module java.base of loader 'bootstrap')\u001b[0m",
      "\u001b[1m\u001b[31m\tat .(#16:1)\u001b[0m"
     ]
    }
   ],
   "source": [
    "li.get(0);"
   ]
  },
  {
   "cell_type": "markdown",
   "metadata": {},
   "source": [
    "Abbiamo già visto che il punto, in questo caso, è poter aggiungere e togliere elementi del tipo parametrico (avendo sia la garnzia della *type safety* che evitando l'uso del *cast*)."
   ]
  },
  {
   "cell_type": "code",
   "execution_count": 5,
   "metadata": {},
   "outputs": [],
   "source": [
    "li.add(Integer.valueOf(1));\n",
    "Integer i = li.get(1);"
   ]
  },
  {
   "cell_type": "markdown",
   "metadata": {},
   "source": [
    "## Array e gerarchia\n",
    "\n",
    "Si osservi che la situazione è ben **diversa** per gli array: è infatti vero che se `S` $\\prec$ `T`, allora `S[]` $\\prec$ `T[]`."
   ]
  },
  {
   "cell_type": "code",
   "execution_count": 6,
   "metadata": {},
   "outputs": [],
   "source": [
    "Integer[] ai = new Integer[10];\n",
    "Object[] ao;"
   ]
  },
  {
   "cell_type": "markdown",
   "metadata": {},
   "source": [
    "In questo caso, infatti, l'assegmaneto è possibile senza *cast* (per via della relazione di sottotipo)"
   ]
  },
  {
   "cell_type": "code",
   "execution_count": 7,
   "metadata": {},
   "outputs": [],
   "source": [
    "ao = ai;"
   ]
  },
  {
   "cell_type": "markdown",
   "metadata": {},
   "source": [
    "Il fatto è che, per gli array, l'assegnamento a `ao` può essere controllato a *run-time* perché l'array conserva l'informazione circa il tipo dei suoi elementi (cosa che non accade per i tipi generici)."
   ]
  },
  {
   "cell_type": "code",
   "execution_count": 8,
   "metadata": {},
   "outputs": [
    {
     "ename": "EvalException",
     "evalue": "java.lang.Object",
     "output_type": "error",
     "traceback": [
      "\u001b[1m\u001b[31m---------------------------------------------------------------------------\u001b[0m",
      "\u001b[1m\u001b[31mjava.lang.ArrayStoreException: java.lang.Object\u001b[0m",
      "\u001b[1m\u001b[31m\tat .(#22:1)\u001b[0m"
     ]
    }
   ],
   "source": [
    "ao[0] = new Object();"
   ]
  },
  {
   "cell_type": "markdown",
   "metadata": {},
   "source": [
    "L'eccezione `ArrayStoreException` è proprio il modo in cui la VM segnala (a runtime) che è impossibile assegnare un oggetto ad un elemento di `as` (tramite l'*alias* `ao`).\n",
    "\n",
    "Ovviamente è corretto l'assegnamento"
   ]
  },
  {
   "cell_type": "code",
   "execution_count": 9,
   "metadata": {},
   "outputs": [
    {
     "data": {
      "text/plain": [
       "1"
      ]
     },
     "execution_count": 9,
     "metadata": {},
     "output_type": "execute_result"
    }
   ],
   "source": [
    "ai[0] = Integer.valueOf(1);"
   ]
  },
  {
   "cell_type": "markdown",
   "metadata": {},
   "source": [
    "che viene eseguito senza errore.\n",
    " \n",
    "Nel caso degli array quindi la *type safety* può essee garantita anche \"trasportando\" sugli array la relazione di sottotipo dgli elementi."
   ]
  },
  {
   "cell_type": "markdown",
   "metadata": {},
   "source": [
    "# Metodi generici\n",
    "\n",
    "La mancanza di relazioni di tipo tra `G<S>` e `G<T>` anche qualora `S` $\\prec$ `T` è particolarmente grave non tanto per il caso degli *alias* visto in precendeza, quanto per il caso dei metodi.\n",
    "\n",
    "Supponiamo di voler scrivere il metodo `add` in grado di sommare i valori in doppia precisione corrispondenti ad un elenco di numeri"
   ]
  },
  {
   "cell_type": "code",
   "execution_count": 10,
   "metadata": {},
   "outputs": [],
   "source": [
    "public static double add(List<Number> lst) {\n",
    "    double sum = 0;\n",
    "    for (Number n : lst) sum += n.doubleValue();\n",
    "    return sum;\n",
    "}"
   ]
  },
  {
   "cell_type": "markdown",
   "metadata": {},
   "source": [
    "Tutto bene se lo usiamo con una lista del tipo del parametro"
   ]
  },
  {
   "cell_type": "code",
   "execution_count": 11,
   "metadata": {},
   "outputs": [
    {
     "data": {
      "text/plain": [
       "6.5"
      ]
     },
     "execution_count": 11,
     "metadata": {},
     "output_type": "execute_result"
    }
   ],
   "source": [
    "List<Number> nums = List.of(1, 2.5, 3);\n",
    "add(nums)"
   ]
  },
  {
   "cell_type": "markdown",
   "metadata": {},
   "source": [
    "Ma per via della mancanza della relazione di sottotipo, non possiamo usarla per sommare una lista di interi"
   ]
  },
  {
   "cell_type": "code",
   "execution_count": 12,
   "metadata": {},
   "outputs": [
    {
     "ename": "CompilationException",
     "evalue": "",
     "output_type": "error",
     "traceback": [
      "\u001b[1m\u001b[30m|   \u001b[1m\u001b[30madd(\u001b[0m\u001b[1m\u001b[30m\u001b[41mints\u001b[0m\u001b[1m\u001b[30m);\u001b[0m",
      "\u001b[1m\u001b[31mincompatible types: java.util.List<java.lang.Integer> cannot be converted to java.util.List<java.lang.Number>\u001b[0m",
      ""
     ]
    }
   ],
   "source": [
    "List<Integer> ints = List.of(1, 2, 3);\n",
    "add(ints);"
   ]
  },
  {
   "cell_type": "markdown",
   "metadata": {},
   "source": [
    "Una possibile soluzione è rendere il metodo **generico** ed indicare un **bound** nella dichiarazione dei parametri di tipo"
   ]
  },
  {
   "cell_type": "code",
   "execution_count": 13,
   "metadata": {},
   "outputs": [],
   "source": [
    "public static <T extends Number> double add(List<T> lst) {\n",
    "    double sum = 0;\n",
    "    for (T n : lst) sum += n.doubleValue();\n",
    "    return sum;\n",
    "}"
   ]
  },
  {
   "cell_type": "code",
   "execution_count": 14,
   "metadata": {},
   "outputs": [
    {
     "data": {
      "text/plain": [
       "6.0"
      ]
     },
     "execution_count": 14,
     "metadata": {},
     "output_type": "execute_result"
    }
   ],
   "source": [
    "add(ints);"
   ]
  },
  {
   "cell_type": "markdown",
   "metadata": {},
   "source": [
    "Consideriamo ora un metodo `copy` in grado di copiare elementi da una lista sorgente ad una destinazione; un primo tentativo di implementazione (attraverso un metodo generico) potrebbe essere"
   ]
  },
  {
   "cell_type": "code",
   "execution_count": 15,
   "metadata": {},
   "outputs": [],
   "source": [
    "public static <T> void copy(List<T> src, List<T> dst) {\n",
    "    for (T t : src) dst.add(t);\n",
    "}"
   ]
  },
  {
   "cell_type": "markdown",
   "metadata": {},
   "source": [
    "che infatti funziona egregiamente su coppie di liste di interi"
   ]
  },
  {
   "cell_type": "code",
   "execution_count": 16,
   "metadata": {},
   "outputs": [
    {
     "data": {
      "text/plain": [
       "[1, 2, 3]"
      ]
     },
     "execution_count": 16,
     "metadata": {},
     "output_type": "execute_result"
    }
   ],
   "source": [
    "List<Integer> dupInts = new ArrayList<>();\n",
    "copy(ints, dupInts);\n",
    "dupInts"
   ]
  },
  {
   "cell_type": "markdown",
   "metadata": {},
   "source": [
    "Ma che succede se volessimo copiare da una lista di interi ad una di numeri?"
   ]
  },
  {
   "cell_type": "code",
   "execution_count": 17,
   "metadata": {},
   "outputs": [
    {
     "ename": "CompilationException",
     "evalue": "",
     "output_type": "error",
     "traceback": [
      "\u001b[1m\u001b[30m|   \u001b[1m\u001b[30m\u001b[0m\u001b[1m\u001b[30m\u001b[41mcopy\u001b[0m\u001b[1m\u001b[30m(ints, dupNums);\u001b[0m",
      "\u001b[1m\u001b[31mmethod copy in class  cannot be applied to given types;\u001b[0m",
      "\u001b[1m\u001b[31m  required: java.util.List<T>,java.util.List<T>\u001b[0m",
      "\u001b[1m\u001b[31m  found: java.util.List<java.lang.Integer>,java.util.List<java.lang.Number>\u001b[0m",
      "\u001b[1m\u001b[31m  reason: inference variable T has incompatible equality constraints java.lang.Number,java.lang.Integer\u001b[0m",
      ""
     ]
    }
   ],
   "source": [
    "List<Number> dupNums = new ArrayList<>();\n",
    "copy(ints, dupNums);"
   ]
  },
  {
   "cell_type": "markdown",
   "metadata": {},
   "source": [
    "Incorreremmo di nuovo in un problema legato all'assenza di una relazione gerarchica tra i tipi; anche in questo caso, possiamo risolverlo con un *bound*"
   ]
  },
  {
   "cell_type": "code",
   "execution_count": 18,
   "metadata": {},
   "outputs": [],
   "source": [
    "public static <T, S extends T> void copy(List<S> src, List<T> dst) {\n",
    "    for (S t : src) dst.add(t);\n",
    "}"
   ]
  },
  {
   "cell_type": "code",
   "execution_count": 19,
   "metadata": {},
   "outputs": [
    {
     "data": {
      "text/plain": [
       "[1, 2, 3]"
      ]
     },
     "execution_count": 19,
     "metadata": {},
     "output_type": "execute_result"
    }
   ],
   "source": [
    "copy(ints, dupNums);\n",
    "dupNums"
   ]
  },
  {
   "cell_type": "markdown",
   "metadata": {},
   "source": [
    "L'uso dei bound sui tipi di parametro dei metodi generici è una prima risposta al problema della mancanza di una gerarchia tra i generici.\n",
    "\n",
    "Ma è necessaria una soluzione più versatile, in grado di permetterci di dare un tipo (generico) sensato agli argomenti dei metodi.m"
   ]
  },
  {
   "cell_type": "markdown",
   "metadata": {},
   "source": [
    "# Wildcard\n",
    "\n",
    "Esiste un parametro di tipo **wildcard** `?` che intuitivamente sta per \"qualunque tipo\", ragion per cui vale `G<T>` $\\prec$`G<?>` (per ogni `T`), ad esempio"
   ]
  },
  {
   "cell_type": "code",
   "execution_count": 20,
   "metadata": {},
   "outputs": [],
   "source": [
    "List<?> lw;\n",
    "\n",
    "lw = lo;\n",
    "lw = li;"
   ]
  },
  {
   "cell_type": "markdown",
   "metadata": {},
   "source": [
    "Il problema è che in questo modo non è possibile garantire alcuna *type safety*, infatti non c'è verso di scrivere, o leggere, dalla lista"
   ]
  },
  {
   "cell_type": "code",
   "execution_count": 21,
   "metadata": {},
   "outputs": [
    {
     "ename": "CompilationException",
     "evalue": "",
     "output_type": "error",
     "traceback": [
      "\u001b[1m\u001b[30m|   \u001b[1m\u001b[30mlw.add(\u001b[0m\u001b[1m\u001b[30m\u001b[41mInteger.valueOf(1)\u001b[0m\u001b[1m\u001b[30m);\u001b[0m",
      "\u001b[1m\u001b[31mincompatible types: java.lang.Integer cannot be converted to capture#2 of ?\u001b[0m",
      ""
     ]
    }
   ],
   "source": [
    "lw.add(Integer.valueOf(1));"
   ]
  },
  {
   "cell_type": "code",
   "execution_count": 22,
   "metadata": {},
   "outputs": [
    {
     "ename": "CompilationException",
     "evalue": "",
     "output_type": "error",
     "traceback": [
      "\u001b[1m\u001b[30m|   \u001b[1m\u001b[30mInteger i = \u001b[0m\u001b[1m\u001b[30m\u001b[41mlw.get(1)\u001b[0m\u001b[1m\u001b[30m;\u001b[0m",
      "\u001b[1m\u001b[31mincompatible types: capture#3 of ? cannot be converted to java.lang.Integer\u001b[0m",
      ""
     ]
    }
   ],
   "source": [
    "Integer i = lw.get(1);"
   ]
  },
  {
   "cell_type": "markdown",
   "metadata": {},
   "source": [
    "Tale \"libertà\" può essere vincolata in vario modo, così che abbia senso usare tipi parametrici basati su wildcard.\n",
    "\n",
    "## Upper bound\n",
    "\n",
    "Il caso più semplice è quello degli **upper bound** della forma `? extends T` che consentono di introdurre le seguenti relazione di sottotipo\n",
    "\n",
    "* per ogni `T`, `G<T>` $\\prec$ `G<? extends T>` \n",
    "* se `S` $\\prec$ `T`, allora `G<? extends S>` $\\prec$  `G<? extends T>`.\n",
    "\n",
    "Ragionando per transitività, se `S` $\\prec$ `T`, si ha `G<S>` $\\prec$ `G<? extends T>` che, in somma, permette di concludere che il generico basato sull'*upper bound del supertipo* (`G<? extends T>`) è supertipo sia di `G<S>` che di `G<T>` (che pure sono tra loro inconfrontabili dal punto di vista della gerarchia).\n",
    "\n",
    "### Esempio: consumatore\n",
    "\n",
    "Un esempio d'uso può chiarire l'obiettivo di tali bound. Immaginiamo di avere un metodo in grado di agire su oggetti di tipo `T`, esso potrà riceverne una lista specificata come `List<T>` ma, certamente, anche come `List<S>` (se `S` $\\prec$ `T`); per questa ragione ha senso che il tipo del sua parametro sia `List<? extends T>`.\n",
    "\n",
    "Ad esempio, consideriamo il metodo `add` visto in precedenza: a questo punto ha senso abbia un parametro di tipo `List<? extends Number>` che è supertipo di `List<Integer>` e `List<Double>`."
   ]
  },
  {
   "cell_type": "code",
   "execution_count": 23,
   "metadata": {},
   "outputs": [],
   "source": [
    "static double add(List<? extends Number> lst) {\n",
    "    double sum = 0;\n",
    "    for (Number n : lst) sum += n.doubleValue();\n",
    "    return sum;\n",
    "}"
   ]
  },
  {
   "cell_type": "code",
   "execution_count": 24,
   "metadata": {},
   "outputs": [],
   "source": [
    "List<Integer> li = Arrays.asList(1, 2, 3);\n",
    "List<Double> ld = Arrays.asList(1.5, 2.5, 3.5);"
   ]
  },
  {
   "cell_type": "code",
   "execution_count": 25,
   "metadata": {},
   "outputs": [
    {
     "data": {
      "text/plain": [
       "6.0"
      ]
     },
     "execution_count": 25,
     "metadata": {},
     "output_type": "execute_result"
    }
   ],
   "source": [
    "add(li);"
   ]
  },
  {
   "cell_type": "code",
   "execution_count": 26,
   "metadata": {},
   "outputs": [
    {
     "data": {
      "text/plain": [
       "7.5"
      ]
     },
     "execution_count": 26,
     "metadata": {},
     "output_type": "execute_result"
    }
   ],
   "source": [
    "add(ld);"
   ]
  },
  {
   "cell_type": "markdown",
   "metadata": {},
   "source": [
    "Il metodo `add` viene chiamato **consumatore** perché legge i valori della lista, se è in grado di gestire il tipo `Number` sarà in grado di gestire i sottotipi. Il consumatore può gestire gli elementi di *al più* un certo tipo, per questa ragione il suo parametro ha un *upper bound*.\n",
    "\n",
    "## Lower bound\n",
    "\n",
    "Cosa accadrebbe però se volessimo scrivere un metodo che, invece di leggere i valori dalla lista, volesse aggiungerne? \n",
    "\n",
    "Non possiamo segiure l'approccio precedente: volendo aggiungere valori di tipo `T` non possiamo farlo in una lista di tipo `List<? extends T>`, perché sappiamo che se `S` $\\prec$ `T` ad essa può corrispondere anche una `List<S>` e finiremmo col mettere oggeti del supertipo in una lista di sottotipi! Seguendo il ragionamento dei bound nei metodi generici vorremmo scrivere una cosa del tipo `T extends ?`, ma questo non è sintatticamente ammesso.\n",
    "\n",
    "A tal fine vengono invece introdotti i **lower bound** della forma `? super S`che consentono di introdurre le seguenti relazioni di sottotipo\n",
    "\n",
    "* per ogni `T`, `G<T>` $\\prec$ `G<? super T>` \n",
    "* se `S` $\\prec$ `T`, allora `G<? super T>` $\\prec$  `G<? super S>`\n",
    "\n",
    "si osservi che, nella seconda relazione, l'ordine dei generici è rovesciato rispetto a prima.\n",
    "\n",
    "Ragionando per transitività, se `S` $\\prec$ `T`, si ha `G<T>` $\\prec$ `G<? super S>` che, in somma, permette di concludere che: il generico basato sul *lower bound del sottotipo* (`G<? super S>`) è supertipo sia di `G<S>` che di `G<T>`.\n",
    "\n",
    "### Esempio: produttore\n",
    "\n",
    "Un esempio d'uso può chiarire meglio il punto. Immaginiamo di avere un metodo che genera elementi di tipo `S`, esso potrà aggiungerli ad una lista specificata come `List<S>` ma, certamente, anche come `List<T>` (se `S` $\\prec$ `T`); per questa ragione ha senso che il tipo del suo parametro sia `List<? super S>`.\n",
    "\n",
    "Ad esempio, il metodo `putInts` che aggiunge degli interi ad una lista, ha senso che abbia un parametro di tipo `List<? super Integer>` che è supertipo di `List<Integer>`, ma certamente andrebbe bene anche aggiungerli ad una lista di tipo `List<Numbner>` — ma si badi bene, se il parametro fosse di tipo `List<Number>`, che non è un supertimpo di `List<Integer>`, il metodo non funzionerebbe come vogliamo."
   ]
  },
  {
   "cell_type": "code",
   "execution_count": 27,
   "metadata": {},
   "outputs": [],
   "source": [
    "static void putInts(List<? super Integer> lst) {\n",
    "    for (int i = 0; i < 10; i++) lst.add(Integer.valueOf(i));\n",
    "}"
   ]
  },
  {
   "cell_type": "code",
   "execution_count": 28,
   "metadata": {},
   "outputs": [],
   "source": [
    "List<Integer> li = new ArrayList<>();\n",
    "List<Number> ln = new ArrayList<>();"
   ]
  },
  {
   "cell_type": "code",
   "execution_count": 29,
   "metadata": {},
   "outputs": [
    {
     "data": {
      "text/plain": [
       "[0, 1, 2, 3, 4, 5, 6, 7, 8, 9]"
      ]
     },
     "execution_count": 29,
     "metadata": {},
     "output_type": "execute_result"
    }
   ],
   "source": [
    "putInts(li);\n",
    "li"
   ]
  },
  {
   "cell_type": "code",
   "execution_count": 30,
   "metadata": {},
   "outputs": [
    {
     "data": {
      "text/plain": [
       "[0, 1, 2, 3, 4, 5, 6, 7, 8, 9]"
      ]
     },
     "execution_count": 30,
     "metadata": {},
     "output_type": "execute_result"
    }
   ],
   "source": [
    "putInts(ln);\n",
    "ln"
   ]
  },
  {
   "cell_type": "markdown",
   "metadata": {},
   "source": [
    "Il metodo `putInts` viene chiamato **produttore** perché aggiunge valori alla lista, se gli elementi sono `Integer` potrà darli in pasto ad una lista in grado di accettare elementi *almeno* di quel tipo, per questa ragione il suo parametro ha un *lower bound*."
   ]
  }
 ],
 "metadata": {
  "kernelspec": {
   "display_name": "Java",
   "language": "java",
   "name": "java"
  },
  "language_info": {
   "codemirror_mode": "java",
   "file_extension": ".jshell",
   "mimetype": "text/x-java-source",
   "name": "Java",
   "pygments_lexer": "java",
   "version": "11.0.5+10-LTS"
  }
 },
 "nbformat": 4,
 "nbformat_minor": 2
}
