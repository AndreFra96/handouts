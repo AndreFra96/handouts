{
 "cells": [
  {
   "cell_type": "markdown",
   "metadata": {},
   "source": [
    "# Representation invariant and assertions"
   ]
  },
  {
   "cell_type": "code",
   "execution_count": 1,
   "metadata": {},
   "outputs": [],
   "source": [
    "! rm -f Counter.java CounterClient.java CheckAssert.java DisableAssert.java *.class"
   ]
  },
  {
   "cell_type": "markdown",
   "metadata": {},
   "source": [
    "## Un contatore \"banale\""
   ]
  },
  {
   "cell_type": "code",
   "execution_count": 2,
   "metadata": {},
   "outputs": [
    {
     "name": "stdout",
     "output_type": "stream",
     "text": [
      "Writing Counter.java\n"
     ]
    }
   ],
   "source": [
    "%%writefile Counter.java\n",
    "\n",
    "public class Counter {\n",
    "    int hits;\n",
    "\n",
    "    public Counter() {hits = 0;}\n",
    "    public void hit() {hits++;}\n",
    "    public int hits() {return hits;}\n",
    "    \n",
    "    public boolean repOk() {return hits >= 0;}\n",
    "}"
   ]
  },
  {
   "cell_type": "code",
   "execution_count": 3,
   "metadata": {},
   "outputs": [
    {
     "name": "stdout",
     "output_type": "stream",
     "text": [
      "Writing CounterClient.java\n"
     ]
    }
   ],
   "source": [
    "%%writefile CounterClient.java\n",
    "\n",
    "public class CounterClient {\n",
    "    \n",
    "    public static void main(String[] args) {\n",
    "        Counter c = new Counter();        \n",
    "        System.out.println(c.hits());\n",
    "        c.hit(); c.hit();\n",
    "        System.out.println(c.hits());\n",
    "    }\n",
    "    \n",
    "}"
   ]
  },
  {
   "cell_type": "code",
   "execution_count": 4,
   "metadata": {},
   "outputs": [
    {
     "name": "stdout",
     "output_type": "stream",
     "text": [
      "0\r\n",
      "2\r\n"
     ]
    }
   ],
   "source": [
    "! javac CounterClient.java && java CounterClient"
   ]
  },
  {
   "cell_type": "markdown",
   "metadata": {},
   "source": [
    "### E se voglio eliminare un colpo?"
   ]
  },
  {
   "cell_type": "code",
   "execution_count": 5,
   "metadata": {},
   "outputs": [
    {
     "name": "stdout",
     "output_type": "stream",
     "text": [
      "Overwriting Counter.java\n"
     ]
    }
   ],
   "source": [
    "%%writefile Counter.java\n",
    "\n",
    "public class Counter {\n",
    "    int hits;\n",
    "\n",
    "    public Counter() {hits = 0;}\n",
    "    public void hit() {hits++;}\n",
    "    public void cancelHit() {hits--;}\n",
    "    public int hits() {return hits;}\n",
    "    \n",
    "    public boolean repOk() {return hits >= 0;}\n",
    "}\n"
   ]
  },
  {
   "cell_type": "code",
   "execution_count": 6,
   "metadata": {},
   "outputs": [
    {
     "name": "stdout",
     "output_type": "stream",
     "text": [
      "Overwriting CounterClient.java\n"
     ]
    }
   ],
   "source": [
    "%%writefile CounterClient.java\n",
    "\n",
    "public class CounterClient {\n",
    "    \n",
    "    public static void main(String[] args) {\n",
    "        Counter c = new Counter();        \n",
    "        System.out.println(c.hits());\n",
    "        c.hit(); c.cancelHit(); c.cancelHit();\n",
    "        System.out.println(c.hits());\n",
    "    }\n",
    "    \n",
    "}"
   ]
  },
  {
   "cell_type": "code",
   "execution_count": 7,
   "metadata": {},
   "outputs": [
    {
     "name": "stdout",
     "output_type": "stream",
     "text": [
      "0\r\n",
      "-1\r\n"
     ]
    }
   ],
   "source": [
    "! javac CounterClient.java && java CounterClient"
   ]
  },
  {
   "cell_type": "markdown",
   "metadata": {},
   "source": [
    "### Uso repOk per controllare lo stato\n",
    "\n",
    "Sollevo una `AssertionError` che è come la `FailureException`"
   ]
  },
  {
   "cell_type": "code",
   "execution_count": 8,
   "metadata": {},
   "outputs": [
    {
     "name": "stdout",
     "output_type": "stream",
     "text": [
      "Overwriting Counter.java\n"
     ]
    }
   ],
   "source": [
    "%%writefile Counter.java\n",
    "\n",
    "public class Counter {\n",
    "    int hits;\n",
    "\n",
    "    public Counter() {\n",
    "        hits = 0;\n",
    "    }\n",
    "    public void hit() {\n",
    "        hits++;\n",
    "        if (!repOk()) throw new AssertionError(\"repOk failed\");\n",
    "    }\n",
    "    public void cancelHit() {\n",
    "        hits--;\n",
    "        if (!repOk()) throw new AssertionError(\"repOk failed\");\n",
    "    }\n",
    "    public int hits() {\n",
    "        return hits;\n",
    "    }\n",
    "    \n",
    "    public boolean repOk() {return hits >= 0;}\n",
    "}"
   ]
  },
  {
   "cell_type": "code",
   "execution_count": 9,
   "metadata": {},
   "outputs": [
    {
     "name": "stdout",
     "output_type": "stream",
     "text": [
      "0\r\n",
      "Exception in thread \"main\" java.lang.AssertionError: repOk failed\r\n",
      "\tat Counter.cancelHit(Counter.java:14)\r\n",
      "\tat CounterClient.main(CounterClient.java:7)\r\n"
     ]
    }
   ],
   "source": [
    "! javac CounterClient.java && java CounterClient"
   ]
  },
  {
   "cell_type": "markdown",
   "metadata": {},
   "source": [
    "## Più convenientemente\n",
    "\n",
    "Posso usare `assert` "
   ]
  },
  {
   "cell_type": "code",
   "execution_count": 10,
   "metadata": {},
   "outputs": [
    {
     "name": "stdout",
     "output_type": "stream",
     "text": [
      "Overwriting Counter.java\n"
     ]
    }
   ],
   "source": [
    "%%writefile Counter.java\n",
    "\n",
    "public class Counter {\n",
    "    int hits;\n",
    "\n",
    "    public Counter() {\n",
    "        hits = 0;\n",
    "    }\n",
    "    public void hit() {\n",
    "        hits++;\n",
    "        assert repOk();\n",
    "    }\n",
    "    public void cancelHit() {\n",
    "        hits--;\n",
    "        assert repOk();\n",
    "    }\n",
    "    public int hits() {\n",
    "        return hits;\n",
    "    }\n",
    "    \n",
    "    public boolean repOk() {return hits >= 0;}\n",
    "}"
   ]
  },
  {
   "cell_type": "code",
   "execution_count": 11,
   "metadata": {},
   "outputs": [
    {
     "name": "stdout",
     "output_type": "stream",
     "text": [
      "0\r\n",
      "-1\r\n"
     ]
    }
   ],
   "source": [
    "! javac CounterClient.java && java CounterClient"
   ]
  },
  {
   "cell_type": "code",
   "execution_count": 12,
   "metadata": {},
   "outputs": [
    {
     "name": "stdout",
     "output_type": "stream",
     "text": [
      "0\r\n",
      "Exception in thread \"main\" java.lang.AssertionError\r\n",
      "\tat Counter.cancelHit(Counter.java:14)\r\n",
      "\tat CounterClient.main(CounterClient.java:7)\r\n"
     ]
    }
   ],
   "source": [
    "! javac CounterClient.java && java -ea CounterClient"
   ]
  },
  {
   "cell_type": "markdown",
   "metadata": {},
   "source": [
    "### Come controllo se sono attive"
   ]
  },
  {
   "cell_type": "code",
   "execution_count": 13,
   "metadata": {},
   "outputs": [
    {
     "name": "stdout",
     "output_type": "stream",
     "text": [
      "Writing CheckAssert.java\n"
     ]
    }
   ],
   "source": [
    "%%writefile CheckAssert.java\n",
    "\n",
    "public class CheckAssert {\n",
    "    \n",
    "    public static void main(String[] args) {\n",
    "        boolean assertOn = false;\n",
    "        assert assertOn = true;\n",
    "        \n",
    "        System.out.println(\"Assertions are acrive: \" + assertOn);\n",
    "    }\n",
    "    \n",
    "}"
   ]
  },
  {
   "cell_type": "code",
   "execution_count": 14,
   "metadata": {},
   "outputs": [],
   "source": [
    "! javac CheckAssert.java"
   ]
  },
  {
   "cell_type": "code",
   "execution_count": 15,
   "metadata": {},
   "outputs": [
    {
     "name": "stdout",
     "output_type": "stream",
     "text": [
      "Assertions are acrive: false\r\n"
     ]
    }
   ],
   "source": [
    "! java CheckAssert"
   ]
  },
  {
   "cell_type": "code",
   "execution_count": 16,
   "metadata": {},
   "outputs": [
    {
     "name": "stdout",
     "output_type": "stream",
     "text": [
      "Assertions are acrive: true\r\n"
     ]
    }
   ],
   "source": [
    "! java -ea CheckAssert"
   ]
  },
  {
   "cell_type": "markdown",
   "metadata": {},
   "source": [
    "### Come le disabilito del tutto\n",
    "\n",
    "Posso usare un `if` su una costante…"
   ]
  },
  {
   "cell_type": "code",
   "execution_count": 17,
   "metadata": {},
   "outputs": [
    {
     "name": "stdout",
     "output_type": "stream",
     "text": [
      "Writing DisableAssert.java\n"
     ]
    }
   ],
   "source": [
    "%%writefile DisableAssert.java\n",
    "\n",
    "public class DisableAssert {\n",
    "    \n",
    "    private static final boolean ASSERT = false;\n",
    "    \n",
    "    public static void main(String[] args) {\n",
    "        \n",
    "        if (ASSERT) assert false;\n",
    "    }\n",
    "    \n",
    "}"
   ]
  },
  {
   "cell_type": "code",
   "execution_count": 18,
   "metadata": {},
   "outputs": [],
   "source": [
    "! javac DisableAssert.java && java -ea DisableAssert"
   ]
  }
 ],
 "metadata": {
  "kernelspec": {
   "display_name": "Python 3",
   "language": "python",
   "name": "python3"
  },
  "language_info": {
   "codemirror_mode": {
    "name": "ipython",
    "version": 3
   },
   "file_extension": ".py",
   "mimetype": "text/x-python",
   "name": "python",
   "nbconvert_exporter": "python",
   "pygments_lexer": "ipython3",
   "version": "3.7.4"
  }
 },
 "nbformat": 4,
 "nbformat_minor": 2
}
