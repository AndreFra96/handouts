{
 "cells": [
  {
   "cell_type": "markdown",
   "metadata": {},
   "source": [
    "# ASCII Art: due possibili soluzioni\n",
    "\n",
    "Nel seguito sono discusse due possibili gerarchie di oggetti che risolvono il problema descritto in precedenza.\n",
    "\n",
    "La prima si basa su una serie di *insiemi di coordinate* usati sia per rappresentare le figure che la bitmap; questa soluzione è implementata nel codice del pacchetto [it.unimi.di.prog2.l24.sets](https://github.com/prog2-unimi/handouts/tree/master/src/it/unimi/di/prog2/l24/sets).\n",
    "\n",
    "La seconda è invece incentrata su una *matrice di pixel* sulla quale di volta in volta le figure disegnano se stesse; questa soluzione ed è implementata nel codice del pacchetto [it.unimi.di.prog2.l24.bitmap](https://github.com/prog2-unimi/handouts/tree/master/src/it/unimi/di/prog2/l24/bitmap)"
   ]
  },
  {
   "cell_type": "markdown",
   "metadata": {},
   "source": [
    "## Insiemi di punti\n",
    "\n",
    "Una prima possibilità è di rappresentare ciascuna figura come l'insieme delle coordinate che la caratterizza e quindi di rappresentare la bitmap come l'unione di tali insiemi.\n",
    "\n",
    "In tale rappresentazione gli insiemi possono essere rappresentati sia in modo *estensivo*(ossia come un elenco di punti contenuti in una apposita struttura dati), o in modo *implicito* o *intensivo* (ossia come strutture dati in grado di enumerare a richiesta le ccordinate).\n",
    "\n",
    "Una rappresentazione *implicita* della bitmap richiede un po' di attenzione per via dell'operazione di inversione: potrebbe essere estremamente inefficiente passare da una bitmap data da un solo pixel acceso ad una con $b \\times h - 1$ pixel accesi!"
   ]
  },
  {
   "cell_type": "markdown",
   "metadata": {},
   "source": [
    "## Matrice di pixel\n",
    "\n",
    "Un'approccio differente si basa sul mantenere una *matrice di pixel* dotata di capacità elementari (come accendere, spegnere o invertire il pixel) e lasciare che le figure la utilizzino per disegnare se stesse.\n",
    "\n",
    "Questa soluzione crea un maggior legame tra figure e matrice, ma risulta molto più semplice da implementare."
   ]
  }
 ],
 "metadata": {
  "kernelspec": {
   "display_name": "Python 3",
   "language": "python",
   "name": "python3"
  },
  "language_info": {
   "codemirror_mode": {
    "name": "ipython",
    "version": 3
   },
   "file_extension": ".py",
   "mimetype": "text/x-python",
   "name": "python",
   "nbconvert_exporter": "python",
   "pygments_lexer": "ipython3",
   "version": "3.7.6"
  }
 },
 "nbformat": 4,
 "nbformat_minor": 2
}
